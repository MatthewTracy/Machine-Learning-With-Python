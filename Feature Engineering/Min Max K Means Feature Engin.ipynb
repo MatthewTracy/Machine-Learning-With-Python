{
 "cells": [
  {
   "cell_type": "markdown",
   "metadata": {},
   "source": [
    "<p><span style=\"font-size:26pt;font-family:Arial;color:#000000;background-color:transparent;font-weight:400;font-style:normal;font-variant:normal;text-decoration:none;vertical-align:baseline;white-space:pre;white-space:pre-wrap;\">Exercise 1</span></p>\n",
    "<p><br></p>"
   ]
  },
  {
   "cell_type": "markdown",
   "metadata": {},
   "source": [
    "<p><span style=\"font-size:13.999999999999998pt;font-family:Arial;color:#000000;background-color:transparent;font-weight:400;font-style:normal;font-variant:normal;text-decoration:none;vertical-align:baseline;white-space:pre;white-space:pre-wrap;\">In this exercise, we&rsquo;ll practice using the absolute maximum scaling and min max scaling techniques.</span></p>"
   ]
  },
  {
   "cell_type": "markdown",
   "metadata": {},
   "source": [
    "<hr style=\"height:2px;border-width:0;color:black;background-color:black\">"
   ]
  },
  {
   "cell_type": "markdown",
   "metadata": {},
   "source": [
    "This data contains information on annual income and spending score for 200 regular customers at a mall who took a survey. Spending score represents how much they're likely to spend.\n",
    "\n",
    "Run the code below to load this dataset."
   ]
  },
  {
   "cell_type": "code",
   "execution_count": 1,
   "metadata": {},
   "outputs": [
    {
     "data": {
      "text/html": [
       "<div>\n",
       "<style scoped>\n",
       "    .dataframe tbody tr th:only-of-type {\n",
       "        vertical-align: middle;\n",
       "    }\n",
       "\n",
       "    .dataframe tbody tr th {\n",
       "        vertical-align: top;\n",
       "    }\n",
       "\n",
       "    .dataframe thead th {\n",
       "        text-align: right;\n",
       "    }\n",
       "</style>\n",
       "<table border=\"1\" class=\"dataframe\">\n",
       "  <thead>\n",
       "    <tr style=\"text-align: right;\">\n",
       "      <th></th>\n",
       "      <th>Annual Income ($)</th>\n",
       "      <th>Spending Score (1-100)</th>\n",
       "    </tr>\n",
       "    <tr>\n",
       "      <th>CustomerID</th>\n",
       "      <th></th>\n",
       "      <th></th>\n",
       "    </tr>\n",
       "  </thead>\n",
       "  <tbody>\n",
       "    <tr>\n",
       "      <th>1</th>\n",
       "      <td>15000</td>\n",
       "      <td>39</td>\n",
       "    </tr>\n",
       "    <tr>\n",
       "      <th>2</th>\n",
       "      <td>15000</td>\n",
       "      <td>81</td>\n",
       "    </tr>\n",
       "    <tr>\n",
       "      <th>3</th>\n",
       "      <td>16000</td>\n",
       "      <td>6</td>\n",
       "    </tr>\n",
       "    <tr>\n",
       "      <th>4</th>\n",
       "      <td>16000</td>\n",
       "      <td>77</td>\n",
       "    </tr>\n",
       "    <tr>\n",
       "      <th>5</th>\n",
       "      <td>17000</td>\n",
       "      <td>40</td>\n",
       "    </tr>\n",
       "    <tr>\n",
       "      <th>...</th>\n",
       "      <td>...</td>\n",
       "      <td>...</td>\n",
       "    </tr>\n",
       "    <tr>\n",
       "      <th>196</th>\n",
       "      <td>120000</td>\n",
       "      <td>79</td>\n",
       "    </tr>\n",
       "    <tr>\n",
       "      <th>197</th>\n",
       "      <td>126000</td>\n",
       "      <td>28</td>\n",
       "    </tr>\n",
       "    <tr>\n",
       "      <th>198</th>\n",
       "      <td>126000</td>\n",
       "      <td>74</td>\n",
       "    </tr>\n",
       "    <tr>\n",
       "      <th>199</th>\n",
       "      <td>137000</td>\n",
       "      <td>18</td>\n",
       "    </tr>\n",
       "    <tr>\n",
       "      <th>200</th>\n",
       "      <td>137000</td>\n",
       "      <td>83</td>\n",
       "    </tr>\n",
       "  </tbody>\n",
       "</table>\n",
       "<p>200 rows × 2 columns</p>\n",
       "</div>"
      ],
      "text/plain": [
       "            Annual Income ($)  Spending Score (1-100)\n",
       "CustomerID                                           \n",
       "1                       15000                      39\n",
       "2                       15000                      81\n",
       "3                       16000                       6\n",
       "4                       16000                      77\n",
       "5                       17000                      40\n",
       "...                       ...                     ...\n",
       "196                    120000                      79\n",
       "197                    126000                      28\n",
       "198                    126000                      74\n",
       "199                    137000                      18\n",
       "200                    137000                      83\n",
       "\n",
       "[200 rows x 2 columns]"
      ]
     },
     "execution_count": 1,
     "metadata": {},
     "output_type": "execute_result"
    }
   ],
   "source": [
    "import pandas as pd\n",
    "from urllib.request import urlretrieve\n",
    "\n",
    "#Reads in the dataset from a URL\n",
    "url = \"https://ac-101708228-virtuoso-prod.s3.amazonaws.com/uploads/download/78/mall_customer_dataset.csv\"\n",
    "urlretrieve(url, \"mall_customer_dataset.csv\")\n",
    "mall_customers = pd.read_csv(\"mall_customer_dataset.csv\",index_col=0)\n",
    "mall_customers"
   ]
  },
  {
   "cell_type": "markdown",
   "metadata": {},
   "source": [
    "<hr style=\"height:2px;border-width:0;color:black;background-color:black\">"
   ]
  },
  {
   "cell_type": "markdown",
   "metadata": {},
   "source": [
    "Run the cell below and note that centroids are aligned in a parallel fashion and that the k-means clusters fail to fit the natural clusters in the data. This is because the two features in this dataset use vastly different scales. Annual income ranges in the tens of thousands while spending score ranges between 1-100.\n",
    "\n",
    "Create a more accurate view of this scatter plot by making the axes scaled. This should help to visualize why the clustering algorithm clustered the data the way that it did."
   ]
  },
  {
   "cell_type": "code",
   "execution_count": 5,
   "metadata": {},
   "outputs": [
    {
     "data": {
      "image/png": "[encoded data removed]",
      "text/plain": [
       "<Figure size 432x288 with 1 Axes>"
      ]
     },
     "metadata": {
      "needs_background": "light"
     },
     "output_type": "display_data"
    }
   ],
   "source": [
    "#Builds the kmeans clustering algorithm\n",
    "from sklearn.cluster import KMeans\n",
    "K=5\n",
    "kmeans = KMeans(n_clusters=K)\n",
    "cluster = kmeans.fit_predict(mall_customers[[\"Annual Income ($)\",\"Spending Score (1-100)\"]])\n",
    "\n",
    "#Plots the data points onto a scatterplot and colors them according to cluster\n",
    "#The red dots represent the centroids of each cluster\n",
    "import matplotlib.pyplot as plt\n",
    "plt.scatter(mall_customers[\"Annual Income ($)\"],mall_customers[\"Spending Score (1-100)\"],c=cluster)\n",
    "plt.scatter(kmeans.cluster_centers_[:, 0], kmeans.cluster_centers_[:, 1], c='red')\n",
    "\n",
    "#Insert code between lines:\n",
    "#____________________________\n",
    "\n",
    "#____________________________\n",
    "plt.show()"
   ]
  },
  {
   "cell_type": "markdown",
   "metadata": {},
   "source": [
    "<hr style=\"height:2px;border-width:0;color:black;background-color:black\">"
   ]
  },
  {
   "cell_type": "markdown",
   "metadata": {},
   "source": [
    "Crate a line chart that plots both features on the Y-axis. For the X-axis, use the provided variable x. This creates a range of values based on the length of the mall_customers dataset."
   ]
  },
  {
   "cell_type": "code",
   "execution_count": 4,
   "metadata": {},
   "outputs": [],
   "source": [
    "x = range(len(mall_customers))\n",
    "\n",
    "#Insert code between lines:\n",
    "#____________________________\n",
    "\n",
    "#____________________________\n",
    "\n",
    "plt.show()"
   ]
  },
  {
   "cell_type": "markdown",
   "metadata": {},
   "source": [
    "<hr style=\"height:2px;border-width:0;color:black;background-color:black\">"
   ]
  },
  {
   "cell_type": "markdown",
   "metadata": {},
   "source": [
    "Scale the data with absolute maximum scaling. Use the graph from the question above to check the new scale of both data features."
   ]
  },
  {
   "cell_type": "code",
   "execution_count": null,
   "metadata": {},
   "outputs": [],
   "source": [
    "#Insert code between lines:\n",
    "#____________________________\n",
    "\n",
    "\n",
    "mall_customers_abs=\n",
    "#____________________________"
   ]
  },
  {
   "cell_type": "markdown",
   "metadata": {},
   "source": [
    "<hr style=\"height:2px;border-width:0;color:black;background-color:black\">"
   ]
  },
  {
   "cell_type": "markdown",
   "metadata": {},
   "source": [
    "Repurpose the k-means code below to run on the data scaled with absolute maximum scaling. You should notice that the model is far more accurate at segmenting the data."
   ]
  },
  {
   "cell_type": "code",
   "execution_count": null,
   "metadata": {},
   "outputs": [],
   "source": [
    "#We use the same k-means code as above\n",
    "#This time we substitute mall_customers with mall_customers_abs\n",
    "#In the output, we can see that the clusters more closely fit the natural clusters in the data\n",
    "K=5\n",
    "kmeans = KMeans(n_clusters=K)\n",
    "cluster = kmeans.fit_predict(mall_customers[[\"Annual Income ($)\",\"Spending Score (1-100)\"]])\n",
    "plt.scatter(mall_customers[\"Annual Income ($)\"],mall_customers[\"Spending Score (1-100)\"],c=cluster)\n",
    "plt.scatter(kmeans.cluster_centers_[:, 0], kmeans.cluster_centers_[:, 1], c='red')"
   ]
  },
  {
   "cell_type": "markdown",
   "metadata": {},
   "source": [
    "<hr style=\"height:2px;border-width:0;color:black;background-color:black\">"
   ]
  },
  {
   "cell_type": "markdown",
   "metadata": {},
   "source": [
    "Scale the data with min max scaling. Use the graph from the question above to check the new scale of both data features."
   ]
  },
  {
   "cell_type": "code",
   "execution_count": 5,
   "metadata": {},
   "outputs": [],
   "source": [
    "#Insert code between lines:\n",
    "#____________________________\n",
    "\n",
    "\n",
    "mall_customers_min_max=\n",
    "#____________________________"
   ]
  },
  {
   "cell_type": "markdown",
   "metadata": {},
   "source": [
    "<hr style=\"height:2px;border-width:0;color:black;background-color:black\">"
   ]
  },
  {
   "cell_type": "markdown",
   "metadata": {},
   "source": [
    "Repurpose the k-means code below to run on the data scaled with min max scaling. As with absolute maximum scaling, you should notice that the model is far more accurate at segmenting the data."
   ]
  },
  {
   "cell_type": "code",
   "execution_count": null,
   "metadata": {},
   "outputs": [],
   "source": [
    "#We use the same k-means code as above\n",
    "#This time we substitute mall_customers with mall_customers_min_max\n",
    "#In the output, we can see that the clusters more closely fit the natural clusters in the data\n",
    "K=5\n",
    "kmeans = KMeans(n_clusters=K)\n",
    "cluster = kmeans.fit_predict(mall_customers[[\"Annual Income ($)\",\"Spending Score (1-100)\"]])\n",
    "plt.scatter(mall_customers[\"Annual Income ($)\"],mall_customers[\"Spending Score (1-100)\"],c=cluster)\n",
    "plt.scatter(kmeans.cluster_centers_[:, 0], kmeans.cluster_centers_[:, 1], c='red')"
   ]
  }
 ],
 "metadata": {
  "kernelspec": {
   "display_name": "Python 3",
   "language": "python",
   "name": "python3"
  },
  "language_info": {
   "codemirror_mode": {
    "name": "ipython",
    "version": 3
   },
   "file_extension": ".py",
   "mimetype": "text/x-python",
   "name": "python",
   "nbconvert_exporter": "python",
   "pygments_lexer": "ipython3",
   "version": "3.7.3"
  }
 },
 "nbformat": 4,
 "nbformat_minor": 2
}
